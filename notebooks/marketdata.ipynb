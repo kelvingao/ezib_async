{
 "cells": [
  {
   "cell_type": "code",
   "execution_count": null,
   "id": "23c27c6f",
   "metadata": {},
   "outputs": [],
   "source": [
    "import logging\n",
    "import asyncio\n",
    "\n",
    "from ezib_async.ezib import ezIBAsync\n",
    "from ezib_async import util"
   ]
  },
  {
   "cell_type": "code",
   "execution_count": null,
   "id": "6ba5ab74",
   "metadata": {},
   "outputs": [],
   "source": [
    "util.logToConsole('DEBUG')\n",
    "logging.getLogger('ib_async').setLevel('CRITICAL')"
   ]
  },
  {
   "cell_type": "code",
   "execution_count": null,
   "id": "d9291d97",
   "metadata": {},
   "outputs": [],
   "source": [
    "# initialize ezIBAsync\n",
    "ezib = ezIBAsync()\n",
    "\n",
    "# connect to IB (7496/7497 = TWS, 4001 = IBGateway)\n",
    "await ezib.connectAsync(ibclient=0, ibport=4001, account=\"U9860850\")\n",
    "# await ezib.connectAsync(ibport=4002, ibclient=100)"
   ]
  },
  {
   "cell_type": "markdown",
   "id": "6e108cd9",
   "metadata": {},
   "source": [
    "### Create some market contracts"
   ]
  },
  {
   "cell_type": "code",
   "execution_count": null,
   "id": "10416413",
   "metadata": {},
   "outputs": [],
   "source": [
    "# create some market contracts using dedicated methods\n",
    "contracts = await asyncio.gather(\n",
    "\t# market contracts\n",
    "\t# ezib.createStockContract(\"NVDA\"),\n",
    "\t# ezib.createStockContract('PLTR'),\n",
    "\t# ezib.createStockContract('NFLX'),\n",
    "\t# ezib.createStockContract('META'),\n",
    "\t# ezib.createStockContract('TSLA'),\n",
    "\t\n",
    "\t# # option contracts\n",
    "\t# ezib.createOptionContract(\"AAPL\", expiry=\"20251219\", strike=200, otype=\"P\"),\n",
    "\t# ezib.createOptionContract(\"AAPL\", expiry=\"20251219\", strike=200, otype=\"C\"),\n",
    "\t\n",
    "\t# # futures contracts\n",
    "\tezib.createFuturesContract(\"ES\", expiry=\"202512\", exchange=\"CME\"),\n",
    "\t# ezib.createContract(\"CL\", \"FUT\", \"NYMEX\", \"USD\", \"202512\", 0.0, \"\"),\n",
    "\t\n",
    "\t# # forex contracts\n",
    "\t# ezib.createForexContract(\"EUR\", currency=\"USD\"),\n",
    "\n",
    "\t# ...or using a contract tuple\n",
    "\t# ezib.createContract(\"CL\", \"FUT\", \"NYMEX\", \"USD\", \"202506\", 0.0, \"\")\n",
    ")"
   ]
  },
  {
   "cell_type": "code",
   "execution_count": null,
   "id": "271a1799",
   "metadata": {},
   "outputs": [],
   "source": [
    "# Request all registered contracts\n",
    "await ezib.requestMarketData()\n",
    "\n",
    "# Wait for data\n",
    "await asyncio.sleep(5)"
   ]
  },
  {
   "cell_type": "code",
   "execution_count": null,
   "id": "c8f66ffe",
   "metadata": {},
   "outputs": [],
   "source": [
    "[nan_col for nan_col in ezib.optionsData[16].columns if ezib.optionsData[16][nan_col].isnull().any()]"
   ]
  },
  {
   "cell_type": "code",
   "execution_count": null,
   "id": "268072b7",
   "metadata": {},
   "outputs": [],
   "source": [
    "ezib.marketData[9]"
   ]
  },
  {
   "cell_type": "code",
   "execution_count": null,
   "id": "1a403308",
   "metadata": {},
   "outputs": [],
   "source": [
    "ezib.optionsData[15]"
   ]
  },
  {
   "cell_type": "code",
   "execution_count": null,
   "id": "0a6fd64b",
   "metadata": {},
   "outputs": [],
   "source": [
    "ezib.optionsData[16][['volume', 'ask_delta', 'bid_imp_vol', 'ask_imp_vol', 'last_imp_vol', 'imp_vol']]"
   ]
  },
  {
   "cell_type": "code",
   "execution_count": null,
   "id": "36c9ad61",
   "metadata": {},
   "outputs": [],
   "source": [
    "crwv = ezib.ib.tickers()[0]"
   ]
  },
  {
   "cell_type": "code",
   "execution_count": null,
   "id": "f0acaccf",
   "metadata": {},
   "outputs": [],
   "source": [
    "ezib.portfolio"
   ]
  },
  {
   "cell_type": "code",
   "execution_count": null,
   "id": "7b8af265",
   "metadata": {},
   "outputs": [],
   "source": [
    "contract = await ezib.createForexContract('EUR')"
   ]
  },
  {
   "cell_type": "code",
   "execution_count": null,
   "id": "d25f94c5",
   "metadata": {},
   "outputs": [],
   "source": [
    "ezib.account"
   ]
  },
  {
   "cell_type": "code",
   "execution_count": null,
   "id": "59aa2c48",
   "metadata": {},
   "outputs": [],
   "source": [
    "ezib.cancelMarketData()"
   ]
  },
  {
   "cell_type": "code",
   "execution_count": null,
   "id": "86f48ca3",
   "metadata": {},
   "outputs": [],
   "source": []
  },
  {
   "cell_type": "code",
   "execution_count": null,
   "id": "e6666dc3",
   "metadata": {},
   "outputs": [],
   "source": [
    "# 1. 输入symbol\n",
    "# 2. \n",
    "pd.DataFrame([ezib.contract_to_tuple(c.contract) for c in ezib.ib.tickers()], \n",
    "             columns=['symbol', 'sec_type', 'exchange', 'currency', 'expiry', 'strike', 'opt_type']) \\\n",
    "    .sort_values(by=['symbol', 'sec_type'], ascending=False)"
   ]
  },
  {
   "cell_type": "code",
   "execution_count": null,
   "id": "a807d866",
   "metadata": {},
   "outputs": [],
   "source": [
    "# request market data for all created contracts\n",
    "await ezib.requestMarketData()"
   ]
  },
  {
   "cell_type": "code",
   "execution_count": null,
   "id": "53a8dba4",
   "metadata": {},
   "outputs": [],
   "source": [
    "util.df(ezib.ib.orders())"
   ]
  },
  {
   "cell_type": "code",
   "execution_count": null,
   "id": "21d0a1a4",
   "metadata": {},
   "outputs": [],
   "source": [
    "import ib_async\n",
    "\n",
    "\n",
    "[attr for attr in dir(ib_async.Ticker) if not attr.startswith('_')]"
   ]
  },
  {
   "cell_type": "code",
   "execution_count": null,
   "id": "dffa8d1d",
   "metadata": {},
   "outputs": [],
   "source": [
    "from IPython.display import display, clear_output\n",
    "import pandas as pd\n",
    "\n",
    "df = pd.DataFrame(\n",
    "    index=[ezib.contractString(c) for c in ezib.contracts if c.secType not in (\"OPT\", \"FOP\", \"FUT\")],\n",
    "    columns=['bidSize', 'bid', 'ask', 'askSize', 'last', 'prevLast', 'lastSize', 'prevLastSize','volume'])\n",
    "\n",
    "def onMarketTickerUpdate(tickers):\n",
    "    for t in tickers:\n",
    "        df.loc[ezib.contractString(t.contract)] = (\n",
    "            t.bidSize, t.bid, t.ask, t.askSize, t.last, t.prevLast, t.lastSize, t.prevLastSize, t.volume)\n",
    "        clear_output(wait=True) \n",
    "    display(df)\n",
    "    # print(t)\n",
    "    \n",
    "ezib.pendingMarketTickersEvent += onMarketTickerUpdate\n",
    "await asyncio.sleep(30)\n",
    "ezib.pendingMarketTickersEvent -= onMarketTickerUpdate"
   ]
  },
  {
   "cell_type": "code",
   "execution_count": null,
   "id": "aeb7a8c4",
   "metadata": {},
   "outputs": [],
   "source": [
    "util.df(ezib.portfolios)"
   ]
  },
  {
   "cell_type": "code",
   "execution_count": null,
   "id": "a0dedf5f",
   "metadata": {},
   "outputs": [],
   "source": [
    "ezib.portfolio"
   ]
  },
  {
   "cell_type": "code",
   "execution_count": null,
   "id": "31490faa",
   "metadata": {},
   "outputs": [],
   "source": [
    "ezib.connected"
   ]
  },
  {
   "cell_type": "code",
   "execution_count": null,
   "id": "af07424a",
   "metadata": {},
   "outputs": [],
   "source": [
    "# cancel market data request & disconnect\n",
    "ezib.cancelMarketData()\n"
   ]
  },
  {
   "cell_type": "code",
   "execution_count": null,
   "id": "974fb050",
   "metadata": {},
   "outputs": [],
   "source": [
    "ezib.disconnect()"
   ]
  }
 ],
 "metadata": {
  "kernelspec": {
   "display_name": ".venv",
   "language": "python",
   "name": "python3"
  },
  "language_info": {
   "codemirror_mode": {
    "name": "ipython",
    "version": 3
   },
   "file_extension": ".py",
   "mimetype": "text/x-python",
   "name": "python",
   "nbconvert_exporter": "python",
   "pygments_lexer": "ipython3",
   "version": "3.11.12"
  }
 },
 "nbformat": 4,
 "nbformat_minor": 5
}
