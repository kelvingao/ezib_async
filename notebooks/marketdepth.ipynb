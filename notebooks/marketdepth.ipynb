{
 "cells": [
  {
   "cell_type": "code",
   "execution_count": null,
   "id": "2103469f",
   "metadata": {},
   "outputs": [],
   "source": [
    "%load_ext autoreload\n",
    "%autoreload 2"
   ]
  },
  {
   "cell_type": "code",
   "execution_count": null,
   "id": "23c27c6f",
   "metadata": {},
   "outputs": [],
   "source": [
    "import logging\n",
    "import asyncio\n",
    "\n",
    "from ezib_async.ezib import ezIBAsync\n",
    "from ezib_async import util"
   ]
  },
  {
   "cell_type": "markdown",
   "id": "43aec227",
   "metadata": {},
   "source": []
  },
  {
   "cell_type": "code",
   "execution_count": null,
   "id": "6ba5ab74",
   "metadata": {},
   "outputs": [],
   "source": [
    "util.logToConsole('DEBUG')\n",
    "logging.getLogger('ib_async').setLevel('CRITICAL')"
   ]
  },
  {
   "cell_type": "code",
   "execution_count": null,
   "id": "d9291d97",
   "metadata": {},
   "outputs": [],
   "source": [
    "# initialize ezIBAsync\n",
    "ezib = ezIBAsync()\n",
    "\n",
    "await ezib.connectAsync(ibclient=100, ibhost=\"localhost\", ibport=4001, account='U9860850')\n",
    "# await ezib.connectAsync(ibport=4002, ibclient=100)"
   ]
  },
  {
   "cell_type": "code",
   "execution_count": null,
   "id": "0cd19a88",
   "metadata": {},
   "outputs": [],
   "source": []
  },
  {
   "cell_type": "code",
   "execution_count": null,
   "id": "d50ac3f9",
   "metadata": {},
   "outputs": [],
   "source": [
    "from ib_async import Forex, Contract\n",
    "# contract = Forex('EURUSD')\n",
    "contract = Forex(pair='EURUSD')\n",
    "await ezib.ib.qualifyContractsAsync(contract)"
   ]
  },
  {
   "cell_type": "code",
   "execution_count": null,
   "id": "64f146ca",
   "metadata": {},
   "outputs": [],
   "source": [
    "contract"
   ]
  },
  {
   "cell_type": "code",
   "execution_count": null,
   "id": "73263ac9",
   "metadata": {},
   "outputs": [],
   "source": [
    "ezib.requestMarketDepth(contract)"
   ]
  },
  {
   "cell_type": "code",
   "execution_count": null,
   "id": "e6666dc3",
   "metadata": {},
   "outputs": [],
   "source": [
    "from IPython.display import display, clear_output\n",
    "import pandas as pd\n",
    "\n",
    "df = pd.DataFrame(index=range(5),\n",
    "        columns='bidSize bidPrice askPrice askSize'.split())\n",
    "\n",
    "def onTickerUpdate(ticker):\n",
    "    # print(ticker.domAsks)\n",
    "    orderbook = ticker\n",
    "    orderbook.symbol = 'symbol'\n",
    "    print(orderbook.symbol)\n",
    "    bids = orderbook.domBids\n",
    "    for i in range(5):\n",
    "        df.iloc[i, 0] = bids[i].size if i < len(bids) else 0\n",
    "        df.iloc[i, 1] = bids[i].price if i < len(bids) else 0\n",
    "    asks = orderbook.domAsks\n",
    "    for i in range(5):\n",
    "        df.iloc[i, 2] = asks[i].price if i < len(asks) else 0\n",
    "        df.iloc[i, 3] = asks[i].size if i < len(asks) else 0\n",
    "    clear_output(wait=True)\n",
    "    display(df)\n",
    "\n",
    "# ib.pendingTickersEvent += onTickerUpdate\n",
    "ezib.updateMarketDepthEvent +=  onTickerUpdate\n",
    "await asyncio.sleep(15)\n",
    "# ib.pendingTickersEvent -= onTickerUpdate\n",
    "ezib.updateMarketDepthEvent -= onTickerUpdate"
   ]
  },
  {
   "cell_type": "code",
   "execution_count": null,
   "id": "3a335ffb",
   "metadata": {},
   "outputs": [],
   "source": [
    "# create some market contracts using dedicated methods\n",
    "contracts = await asyncio.gather(\n",
    "    # market contracts\n",
    "    ezib.createStockContract(\"NVDA\"),\n",
    "    ezib.createStockContract('PLTR'),\n",
    "    ezib.createStockContract('NFLX'),\n",
    "    ezib.createStockContract('META'),\n",
    "    ezib.createStockContract('TSLA'),\n",
    "    \n",
    "    # option contracts\n",
    "    ezib.createOptionContract(\"AAPL\", expiry=\"20250530\", strike=200, otype=\"P\"),\n",
    "    ezib.createOptionContract(\"AAPL\", expiry=\"20250530\", strike=200, otype=\"C\")\n",
    "    \n",
    "    # futures contracts\n",
    "    # ezib.createFuturesContract(\"ES\", expiry=\"202506\", exchange=\"CME\"),\n",
    "    # ezib.createContract((\"CL\", \"FUT\", \"NYMEX\", \"USD\", \"202506\", 0.0, \"\")),\n",
    "    \n",
    "    # forex contracts\n",
    "    # ezib.createForexContract(\"EUR\", currency=\"USD\")\n",
    ")"
   ]
  },
  {
   "cell_type": "code",
   "execution_count": null,
   "id": "d98d4792",
   "metadata": {},
   "outputs": [],
   "source": [
    "util.df(ezib._contract_details)"
   ]
  },
  {
   "cell_type": "code",
   "execution_count": null,
   "id": "a807d866",
   "metadata": {},
   "outputs": [],
   "source": [
    "# request market data for all created contracts\n",
    "await ezib.requestMarketData()"
   ]
  },
  {
   "cell_type": "code",
   "execution_count": null,
   "id": "53a8dba4",
   "metadata": {},
   "outputs": [],
   "source": [
    "util.df(ezib.ib.orders())"
   ]
  },
  {
   "cell_type": "code",
   "execution_count": null,
   "id": "21d0a1a4",
   "metadata": {},
   "outputs": [],
   "source": [
    "import ib_async\n",
    "\n",
    "\n",
    "[attr for attr in dir(ib_async.Ticker) if not attr.startswith('_')]"
   ]
  },
  {
   "cell_type": "code",
   "execution_count": null,
   "id": "dffa8d1d",
   "metadata": {},
   "outputs": [],
   "source": [
    "from IPython.display import display, clear_output\n",
    "import pandas as pd\n",
    "\n",
    "df = pd.DataFrame(\n",
    "    index=[ezib.contractString(c) for c in ezib.contracts if c.secType not in (\"OPT\", \"FOP\", \"FUT\")],\n",
    "    columns=['bidSize', 'bid', 'ask', 'askSize', 'last', 'prevLast', 'lastSize', 'prevLastSize','volume'])\n",
    "\n",
    "def onMarketTickerUpdate(tickers):\n",
    "    for t in tickers:\n",
    "        df.loc[ezib.contractString(t.contract)] = (\n",
    "            t.bidSize, t.bid, t.ask, t.askSize, t.last, t.prevLast, t.lastSize, t.prevLastSize, t.volume)\n",
    "        clear_output(wait=True) \n",
    "    display(df)\n",
    "    # print(t)\n",
    "    \n",
    "ezib.pendingMarketTickersEvent += onMarketTickerUpdate\n",
    "# await asyncio.sleep(30)\n",
    "# ezib.pendingMarketTickersEvent -= onMarketTickerUpdate"
   ]
  },
  {
   "cell_type": "code",
   "execution_count": null,
   "id": "043ffbca",
   "metadata": {},
   "outputs": [],
   "source": [
    "ezib.pendingMarketTickersEvent -= onMarketTickerUpdate"
   ]
  },
  {
   "cell_type": "code",
   "execution_count": null,
   "id": "aeb7a8c4",
   "metadata": {},
   "outputs": [],
   "source": [
    "util.df(ezib.portfolios)"
   ]
  },
  {
   "cell_type": "code",
   "execution_count": null,
   "id": "a0dedf5f",
   "metadata": {},
   "outputs": [],
   "source": [
    "util.df(ezib.portfolio)"
   ]
  },
  {
   "cell_type": "code",
   "execution_count": null,
   "id": "31490faa",
   "metadata": {},
   "outputs": [],
   "source": [
    "ezib.isConnected"
   ]
  },
  {
   "cell_type": "code",
   "execution_count": null,
   "id": "af07424a",
   "metadata": {},
   "outputs": [],
   "source": [
    "# cancel market data request & disconnect\n",
    "ezib.cancelMarketData()\n"
   ]
  },
  {
   "cell_type": "code",
   "execution_count": null,
   "id": "974fb050",
   "metadata": {},
   "outputs": [],
   "source": [
    "ezib.disconnect()"
   ]
  }
 ],
 "metadata": {
  "kernelspec": {
   "display_name": ".venv",
   "language": "python",
   "name": "python3"
  },
  "language_info": {
   "codemirror_mode": {
    "name": "ipython",
    "version": 3
   },
   "file_extension": ".py",
   "mimetype": "text/x-python",
   "name": "python",
   "nbconvert_exporter": "python",
   "pygments_lexer": "ipython3",
   "version": "3.11.8"
  }
 },
 "nbformat": 4,
 "nbformat_minor": 5
}
