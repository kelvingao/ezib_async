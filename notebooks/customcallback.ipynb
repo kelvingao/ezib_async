{
 "cells": [
  {
   "cell_type": "code",
   "execution_count": null,
   "id": "fa5330e9",
   "metadata": {},
   "outputs": [],
   "source": [
    "import logging\n",
    "\n",
    "from ezib_async import ezIBAsync, util"
   ]
  },
  {
   "cell_type": "code",
   "execution_count": null,
   "id": "1f086ca8",
   "metadata": {},
   "outputs": [],
   "source": [
    "util.logToConsole(\"DEBUG\")\n",
    "logging.getLogger(\"ib_async\").setLevel(\"CRITICAL\")"
   ]
  },
  {
   "cell_type": "code",
   "execution_count": null,
   "id": "e4010e40",
   "metadata": {},
   "outputs": [],
   "source": [
    "# initialize ezIBAsync\n",
    "ezib = ezIBAsync()\n",
    "\n",
    "# connect to TWS/GATEWAY\n",
    "await ezib.connectAsync(ibport=4002)"
   ]
  },
  {
   "cell_type": "code",
   "execution_count": null,
   "id": "f21a57c1",
   "metadata": {},
   "outputs": [],
   "source": [
    "ezib._get_active_account()"
   ]
  },
  {
   "cell_type": "code",
   "execution_count": null,
   "id": "ef45e2c6",
   "metadata": {},
   "outputs": [],
   "source": [
    "# see portfolio\n",
    "util.df(ezib.portfolio)"
   ]
  },
  {
   "cell_type": "code",
   "execution_count": null,
   "id": "1daf97bb",
   "metadata": {},
   "outputs": [],
   "source": [
    "# define custom callback\n",
    "def onTradeStatus(trade):\n",
    "    if trade.orderStatus.status == \"Filled\":\n",
    "        print(\">>> ORDER FILLED\")"
   ]
  },
  {
   "cell_type": "code",
   "execution_count": null,
   "id": "d8b30359",
   "metadata": {},
   "outputs": [],
   "source": [
    "# create a contract\n",
    "contract = await ezib.createStockContract(\"NVDA\")\n",
    "\n",
    "# create & place order\n",
    "order = ezib.createOrder(quantity=100)\n",
    "\n",
    "trade = ezib.placeOrder(contract, order)\n",
    "trade.statusEvent += onTradeStatus\n"
   ]
  },
  {
   "cell_type": "code",
   "execution_count": null,
   "id": "029b67a9",
   "metadata": {},
   "outputs": [],
   "source": [
    "util.df(trade.log)"
   ]
  },
  {
   "cell_type": "code",
   "execution_count": null,
   "id": "e8cc1be2",
   "metadata": {},
   "outputs": [],
   "source": [
    "# see the positions\n",
    "util.df(ezib.ib.positions())\n"
   ]
  },
  {
   "cell_type": "code",
   "execution_count": null,
   "id": "bf0a179e",
   "metadata": {},
   "outputs": [],
   "source": [
    "# disconnect\n",
    "ezib.disconnect()"
   ]
  }
 ],
 "metadata": {
  "kernelspec": {
   "display_name": ".venv",
   "language": "python",
   "name": "python3"
  },
  "language_info": {
   "codemirror_mode": {
    "name": "ipython",
    "version": 3
   },
   "file_extension": ".py",
   "mimetype": "text/x-python",
   "name": "python",
   "nbconvert_exporter": "python",
   "pygments_lexer": "ipython3",
   "version": "3.11.8"
  }
 },
 "nbformat": 4,
 "nbformat_minor": 5
}
