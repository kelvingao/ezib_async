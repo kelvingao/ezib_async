{
 "cells": [
  {
   "cell_type": "code",
   "execution_count": null,
   "metadata": {},
   "outputs": [],
   "source": [
    "import logging\n",
    "import asyncio\n",
    "import ib_async\n",
    "from ezib_async import ezIBAsync, util"
   ]
  },
  {
   "cell_type": "code",
   "execution_count": null,
   "metadata": {},
   "outputs": [],
   "source": [
    "util.logToConsole('DEBUG')\n",
    "logging.getLogger('ib_async').setLevel('CRITICAL')"
   ]
  },
  {
   "cell_type": "code",
   "execution_count": null,
   "metadata": {},
   "outputs": [],
   "source": [
    "# initialize ezIBAsync\n",
    "ezib = ezIBAsync()\n",
    "\n",
    "# connect to IB (7496/7497 = TWS, 4001 = IBGateway)\n",
    "# await ezib.connectAsync(ibclient=101, ibhost=\"localhost\", ibport=4001, account='U13792768')\n",
    "# ezib.disconnect()\n",
    "\n",
    "await ezib.connectAsync(ibclient=101, ibhost=\"localhost\", ibport=4001, account='U9860850')"
   ]
  },
  {
   "cell_type": "code",
   "execution_count": null,
   "metadata": {},
   "outputs": [],
   "source": [
    "\n",
    "contracts = await asyncio.gather(\n",
    "    # option contracts\n",
    "    ezib.createOptionContract(\"AAPL\", expiry=\"20250530\", strike=200, otype=\"P\"),\n",
    "    \n",
    "    # futures contracts\n",
    "    # ezib.createFuturesContract(\"ES\", expiry=\"202506\", exchange=\"CME\"),\n",
    "    # ezib.createContract((\"CL\", \"FUT\", \"NYMEX\", \"USD\", \"202506\", 0.0, \"\")),\n",
    "    \n",
    "    # forex contracts\n",
    "    # ezib.createForexContract(\"EUR\", currency=\"USD\")\n",
    "    \n",
    ")"
   ]
  },
  {
   "cell_type": "code",
   "execution_count": null,
   "metadata": {},
   "outputs": [],
   "source": [
    "# request market data for all created contracts\n",
    "await ezib.requestMarketData()"
   ]
  },
  {
   "cell_type": "code",
   "execution_count": null,
   "metadata": {},
   "outputs": [],
   "source": [
    "[attr for attr in dir(ib_async.Ticker.modelGreeks) if not attr.startswith('_')]"
   ]
  },
  {
   "cell_type": "code",
   "execution_count": null,
   "metadata": {},
   "outputs": [],
   "source": [
    "from IPython.display import display, clear_output\n",
    "import pandas as pd\n",
    "\n",
    "df = pd.DataFrame(\n",
    "    index=[ezib.contractString(c) for c in ezib.contracts.values() if c.secType in (\"OPT\", \"FOP\")],\n",
    "    # columns=['iv', 'volume'])\n",
    "    # columns=['last_undPrice', 'model_undPrice', 'ask_undPrice', 'bid_undPrice'])\n",
    "    columns=['last', 'lastSize', 'price', 'imp_vol', 'underlying', 'delta', 'gamma', 'vega', 'theta']) \n",
    "    # columns=['ask', 'askSize', 'imp_vol', 'underlying', 'delta', 'gamma', 'vega', 'theta'])\n",
    "    # columns=['bid', 'bidSize', 'price', 'imp_vol', 'underlying', 'delta', 'gamma', 'vega', 'theta']) \n",
    "    # columns=['price', 'imp_vol', 'underlying', 'delta', 'gamma', 'vega', 'theta'])\n",
    "\n",
    "def onOptionsTickerUpdate(tickers):\n",
    "    for t in tickers:\n",
    "        df.loc[ezib.contractString(t.contract)] = (\n",
    "            # t.impliedVolatility, t.volume)\n",
    "            # t.lastGreeks.undPrice, t.modelGreeks.undPrice, t.askGreeks.undPrice, t.bidGreeks.undPrice)\n",
    "            t.last, t.lastSize, t.lastGreeks.optPrice, t.lastGreeks.impliedVol, t.lastGreeks.undPrice, t.lastGreeks.delta, t.lastGreeks.gamma, t.lastGreeks.vega, t.lastGreeks.theta)\n",
    "            # t.ask, t.askSize, t.askGreeks.impliedVol, t.askGreeks.undPrice, t.askGreeks.delta, t.askGreeks.gamma, t.askGreeks.vega, t.askGreeks.theta)\n",
    "            # t.bid, t.bidSize, t.bidGreeks.optPrice, t.bidGreeks.impliedVol, t.bidGreeks.undPrice, t.bidGreeks.delta, t.bidGreeks.gamma, t.bidGreeks.vega, t.bidGreeks.theta)\n",
    "            # t.modelGreeks.optPrice, t.modelGreeks.impliedVol, t.modelGreeks.undPrice, t.modelGreeks.delta, t.modelGreeks.gamma, t.modelGreeks.vega, t.modelGreeks.theta)\n",
    "        clear_output(wait=True)\n",
    "    display(df)\n",
    "    # print(t)\n",
    "    \n",
    "ezib.pendingOptionsTickersEvent += onOptionsTickerUpdate\n",
    "await asyncio.sleep(15)\n",
    "ezib.pendingOptionsTickersEvent -= onOptionsTickerUpdate"
   ]
  },
  {
   "cell_type": "code",
   "execution_count": null,
   "metadata": {},
   "outputs": [],
   "source": [
    "ezib.contracts"
   ]
  },
  {
   "cell_type": "code",
   "execution_count": null,
   "metadata": {},
   "outputs": [],
   "source": [
    "ticker = ezib.ib.ticker(ezib.contracts[1])"
   ]
  },
  {
   "cell_type": "code",
   "execution_count": null,
   "metadata": {},
   "outputs": [],
   "source": [
    "df = util.df([ticker])"
   ]
  },
  {
   "cell_type": "code",
   "execution_count": null,
   "metadata": {},
   "outputs": [],
   "source": [
    "from IPython.display import display, clear_output\n",
    "import pandas as pd\n",
    "\n",
    "df = pd.DataFrame(\n",
    "    index=[ezib.contractString(c) for c in ezib.contracts.values() if c.secType in (\"OPT\", \"FOP\")],\n",
    "    # columns=['iv', 'volume'])\n",
    "    # columns=['last_undPrice', 'model_undPrice', 'ask_undPrice', 'bid_undPrice'])\n",
    "    columns=['last', 'imp_vol', 'underlying', 'delta', 'gamma', 'vega', 'theta']) \n",
    "    # columns=['ask', 'askSize', 'imp_vol', 'underlying', 'delta', 'gamma', 'vega', 'theta'])\n",
    "    # columns=['bid', 'bidSize', 'price', 'imp_vol', 'underlying', 'delta', 'gamma', 'vega', 'theta']) \n",
    "    # columns=['price', 'imp_vol', 'underlying', 'delta', 'gamma', 'vega', 'theta'])\n",
    "\n",
    "def onOptionsTickerUpdate(tickers):\n",
    "    for t in tickers:\n",
    "        df.loc[ezib.contractString(t.contract)] = (\n",
    "            # t.impliedVolatility, t.volume)\n",
    "            # t.lastGreeks.undPrice, t.modelGreeks.undPrice, t.askGreeks.undPrice, t.bidGreeks.undPrice)\n",
    "            t.modelGreeks.optPrice, t.modelGreeks.impliedVol, t.modelGreeks.undPrice, t.modelGreeks.delta, t.modelGreeks.gamma, t.modelGreeks.vega, t.modelGreeks.theta)\n",
    "            # t.modelGreeks.delta * t.modelGreeks.undPrice * 100)\n",
    "            # t.ask, t.askSize, t.askGreeks.impliedVol, t.askGreeks.undPrice, t.askGreeks.delta, t.askGreeks.gamma, t.askGreeks.vega, t.askGreeks.theta)\n",
    "            # t.bid, t.bidSize, t.bidGreeks.optPrice, t.bidGreeks.impliedVol, t.bidGreeks.undPrice, t.bidGreeks.delta, t.bidGreeks.gamma, t.bidGreeks.vega, t.bidGreeks.theta)\n",
    "            # t.modelGreeks.optPrice, t.modelGreeks.impliedVol, t.modelGreeks.undPrice, t.modelGreeks.delta, t.modelGreeks.gamma, t.modelGreeks.vega, t.modelGreeks.theta)\n",
    "        clear_output(wait=True)\n",
    "    display(df)\n",
    "    # print(t)\n",
    "    \n",
    "ezib.pendingOptionsTickersEvent += onOptionsTickerUpdate\n",
    "await asyncio.sleep(30)\n",
    "ezib.pendingOptionsTickersEvent -= onOptionsTickerUpdate\n"
   ]
  },
  {
   "cell_type": "markdown",
   "metadata": {},
   "source": [
    "将不常用的的opiton，调整到子账户。 marketData += 与，opitonsData += 一起计算总体持仓"
   ]
  },
  {
   "cell_type": "code",
   "execution_count": null,
   "metadata": {},
   "outputs": [],
   "source": [
    "from IPython.display import display, clear_output\n",
    "import pandas as pd\n",
    "\n",
    "df = pd.DataFrame(\n",
    "    index=[ezib.contractString(c) for c in ezib.contracts.values() if c.secType in (\"OPT\", \"FOP\")],\n",
    "    # columns=['iv', 'volume'])\n",
    "    # columns=['last_undPrice', 'model_undPrice', 'ask_undPrice', 'bid_undPrice'])\n",
    "    columns=['postion', 'marketValue']) \n",
    "    # columns=['ask', 'askSize', 'imp_vol', 'underlying', 'delta', 'gamma', 'vega', 'theta'])\n",
    "    # columns=['bid', 'bidSize', 'price', 'imp_vol', 'underlying', 'delta', 'gamma', 'vega', 'theta']) \n",
    "    # columns=['price', 'imp_vol', 'underlying', 'delta', 'gamma', 'vega', 'theta'])\n",
    "\n",
    "def onPortfolioUpdate(portfolios):\n",
    "    for p in portfolios:\n",
    "        df.loc[ezib.contractString(p.contract)] = (\n",
    "            p.postion, p.marketValue\n",
    "            )\n",
    "        clear_output(wait=True)\n",
    "    display(df)\n",
    "    # print(t)\n",
    "    \n",
    "ezib.ib.updatePortfolioEvent += onPortfolioUpdate\n",
    "await asyncio.sleep(15)\n",
    "ezib.ib.updatePortfolioEvent -= onPortfolioUpdate"
   ]
  },
  {
   "cell_type": "code",
   "execution_count": null,
   "metadata": {},
   "outputs": [],
   "source": [
    "ezib.getPositions()['GLD20260116P00291000_OPT']['position']"
   ]
  },
  {
   "cell_type": "code",
   "execution_count": null,
   "metadata": {},
   "outputs": [],
   "source": [
    "ticker = ezib.ib.ticker(ezib.contracts[10])"
   ]
  },
  {
   "cell_type": "code",
   "execution_count": null,
   "metadata": {},
   "outputs": [],
   "source": [
    "ezib.contractString(ticker.contract)"
   ]
  },
  {
   "cell_type": "code",
   "execution_count": null,
   "metadata": {},
   "outputs": [],
   "source": [
    "util.df(ezib.portfolios)"
   ]
  },
  {
   "cell_type": "code",
   "execution_count": null,
   "metadata": {},
   "outputs": [],
   "source": [
    "# # cancel market data request & disconnect\n",
    "ezib.cancelMarketData()\n",
    "ezib.disconnect()"
   ]
  }
 ],
 "metadata": {
  "kernelspec": {
   "display_name": ".venv",
   "language": "python",
   "name": "python3"
  },
  "language_info": {
   "codemirror_mode": {
    "name": "ipython",
    "version": 3
   },
   "file_extension": ".py",
   "mimetype": "text/x-python",
   "name": "python",
   "nbconvert_exporter": "python",
   "pygments_lexer": "ipython3",
   "version": "3.11.8"
  }
 },
 "nbformat": 4,
 "nbformat_minor": 2
}
