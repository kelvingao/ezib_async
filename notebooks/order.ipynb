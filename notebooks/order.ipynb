{
 "cells": [
  {
   "cell_type": "code",
   "execution_count": null,
   "id": "62c75082",
   "metadata": {},
   "outputs": [],
   "source": [
    "import logging\n",
    "\n",
    "from ezib_async import ezIBAsync, util"
   ]
  },
  {
   "cell_type": "code",
   "execution_count": null,
   "id": "22afdb30",
   "metadata": {},
   "outputs": [],
   "source": [
    "logging.getLogger(\"ib_async\").setLevel(\"CRITICAL\")\n",
    "util.logToConsole(\"DEBUG\")"
   ]
  },
  {
   "cell_type": "code",
   "execution_count": null,
   "id": "18388a6b",
   "metadata": {},
   "outputs": [],
   "source": [
    "# initialize ezIBpy\n",
    "ezib = ezIBAsync()\n",
    "await ezib.connectAsync(ibclient=103, ibport=4002)"
   ]
  },
  {
   "cell_type": "code",
   "execution_count": null,
   "id": "15a59777",
   "metadata": {},
   "outputs": [],
   "source": [
    "ezib._get_active_account()"
   ]
  },
  {
   "cell_type": "code",
   "execution_count": null,
   "id": "7fe8efc3",
   "metadata": {},
   "outputs": [],
   "source": [
    "# create a contract\n",
    "contract = await ezib.createFuturesContract(\"ES\", exchange=\"CME\", expiry=\"202506\")\n",
    "contract"
   ]
  },
  {
   "cell_type": "code",
   "execution_count": null,
   "id": "97ace7ab",
   "metadata": {},
   "outputs": [],
   "source": [
    "# create an order\n",
    "order = ezib.createOrder(quantity=1) # use price=X for LMT orders\n",
    "# submit an order (returns order id)\n",
    "trade = ezib.placeOrder(contract, order)\n"
   ]
  },
  {
   "cell_type": "code",
   "execution_count": null,
   "id": "38618b4b",
   "metadata": {},
   "outputs": [],
   "source": [
    "# see the positions\n",
    "util.df(ezib.ib.positions())"
   ]
  },
  {
   "cell_type": "code",
   "execution_count": null,
   "id": "8a69d531",
   "metadata": {},
   "outputs": [],
   "source": [
    "# see the portfolio\n",
    "util.df(ezib.portfolio)"
   ]
  },
  {
   "cell_type": "code",
   "execution_count": null,
   "id": "e2af45c9",
   "metadata": {},
   "outputs": [],
   "source": [
    "# disconnect\n",
    "ezib.disconnect()"
   ]
  }
 ],
 "metadata": {
  "kernelspec": {
   "display_name": ".venv",
   "language": "python",
   "name": "python3"
  },
  "language_info": {
   "codemirror_mode": {
    "name": "ipython",
    "version": 3
   },
   "file_extension": ".py",
   "mimetype": "text/x-python",
   "name": "python",
   "nbconvert_exporter": "python",
   "pygments_lexer": "ipython3",
   "version": "3.11.8"
  }
 },
 "nbformat": 4,
 "nbformat_minor": 5
}
